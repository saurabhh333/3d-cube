{
  "cells": [
    {
      "cell_type": "code",
      "execution_count": null,
      "metadata": {
        "id": "VjYy0F2gZIPR"
      },
      "outputs": [],
      "source": [
        "#run this first\n",
        "%cd /content\n",
        "!git clone https://github.com/lllyasviel/Fooocus.git\n",
        "%cd /content/Fooocus\n",
        "!wget -O /content/Fooocus/models/checkpoints/juggernautXL_v7Rundiffusion.safetensors https://civitai.com/api/download/models/240840?type=Model&format=SafeTensor&size=full&fp=fp16\n",
        "!python entry_with_update.py --share"
      ]
    },
    {
      "cell_type": "code",
      "execution_count": null,
      "metadata": {
        "id": "cHGGuhrk_YMv"
      },
      "outputs": [],
      "source": [
        "#after you are done, stop the upper cell and run this one to download all the pics you generated with other information like promts, seeds....\n",
        "!zip -r /content/AllPics.zip /content/Fooocus/outputs/\n",
        "from google.colab import files\n",
        "files.download(\"/content/AllPics.zip\")"
      ]
    }
  ],
  "metadata": {
    "accelerator": "GPU",
    "colab": {
      "gpuType": "T4",
      "provenance": []
    },
    "kernelspec": {
      "display_name": "Python 3",
      "name": "python3"
    },
    "language_info": {
      "name": "python"
    }
  },
  "nbformat": 4,
  "nbformat_minor": 0
}